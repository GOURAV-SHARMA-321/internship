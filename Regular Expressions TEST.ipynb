{
 "cells": [
  {
   "cell_type": "code",
   "execution_count": 56,
   "id": "5f3ff3ba",
   "metadata": {},
   "outputs": [],
   "source": [
    "# for REGULAR EXPRESSION \n",
    "\n"
   ]
  },
  {
   "cell_type": "code",
   "execution_count": 11,
   "id": "28cff79c",
   "metadata": {},
   "outputs": [],
   "source": [
    "import re \n",
    "import pandas as pd"
   ]
  },
  {
   "cell_type": "code",
   "execution_count": 12,
   "id": "dec80045",
   "metadata": {},
   "outputs": [],
   "source": [
    " #   Q 1  Write a Python program to replace all occurrences of a space, comma, or dot with a colon."
   ]
  },
  {
   "cell_type": "code",
   "execution_count": 13,
   "id": "942d1dcf",
   "metadata": {},
   "outputs": [
    {
     "name": "stdout",
     "output_type": "stream",
     "text": [
      "*********************************\n",
      "Python:Exercises::PHP:exercises:\n",
      "*********************************\n"
     ]
    }
   ],
   "source": [
    "text = 'Python Exercises, PHP exercises.'\n",
    "x = (re.sub(\"[ ,.]\", \":\", text))\n",
    "print(\"*********************************\")\n",
    "print(x)\n",
    "print(\"*********************************\")\n"
   ]
  },
  {
   "cell_type": "code",
   "execution_count": 14,
   "id": "00adfc50",
   "metadata": {},
   "outputs": [],
   "source": [
    "# Q2 Create a dataframe using the dictionary below and remove everything \n",
    "# (commas (,), !, XXXX, ;, etc.) from the columns except words.\n"
   ]
  },
  {
   "cell_type": "code",
   "execution_count": 15,
   "id": "900fd70a",
   "metadata": {},
   "outputs": [
    {
     "name": "stdout",
     "output_type": "stream",
     "text": [
      "************************************************\n",
      "**************************************************\n"
     ]
    },
    {
     "data": {
      "text/html": [
       "<div>\n",
       "<style scoped>\n",
       "    .dataframe tbody tr th:only-of-type {\n",
       "        vertical-align: middle;\n",
       "    }\n",
       "\n",
       "    .dataframe tbody tr th {\n",
       "        vertical-align: top;\n",
       "    }\n",
       "\n",
       "    .dataframe thead th {\n",
       "        text-align: right;\n",
       "    }\n",
       "</style>\n",
       "<table border=\"1\" class=\"dataframe\">\n",
       "  <thead>\n",
       "    <tr style=\"text-align: right;\">\n",
       "      <th></th>\n",
       "      <th>SUMMARY</th>\n",
       "    </tr>\n",
       "  </thead>\n",
       "  <tbody>\n",
       "    <tr>\n",
       "      <th>0</th>\n",
       "      <td>hello world</td>\n",
       "    </tr>\n",
       "    <tr>\n",
       "      <th>1</th>\n",
       "      <td>XXXXX test</td>\n",
       "    </tr>\n",
       "    <tr>\n",
       "      <th>2</th>\n",
       "      <td>123four five six</td>\n",
       "    </tr>\n",
       "  </tbody>\n",
       "</table>\n",
       "</div>"
      ],
      "text/plain": [
       "            SUMMARY\n",
       "0       hello world\n",
       "1        XXXXX test\n",
       "2  123four five six"
      ]
     },
     "execution_count": 15,
     "metadata": {},
     "output_type": "execute_result"
    }
   ],
   "source": [
    "data = {'SUMMARY': ['hello, world!', 'XXXXX test', '123four, five:; six...']}\n",
    "df = pd.DataFrame(data)\n",
    "print(\"************************************************\")\n",
    "df['SUMMARY'] = df['SUMMARY'].apply(lambda x: re.sub(r'[^\\w\\s]', '', x))\n",
    "print(\"**************************************************\")\n",
    "df\n"
   ]
  },
  {
   "cell_type": "code",
   "execution_count": 16,
   "id": "2f736bc3",
   "metadata": {},
   "outputs": [],
   "source": [
    "#  Q 3 Create a function in python to \n",
    "# find all words that are at least 4 characters long in a string. The use of the re.compile() method is mandatory.\n"
   ]
  },
  {
   "cell_type": "code",
   "execution_count": 77,
   "id": "02a66ff3",
   "metadata": {},
   "outputs": [
    {
     "name": "stdout",
     "output_type": "stream",
     "text": [
      "['This', 'sample', 'string', 'with', 'words', 'lengths']\n"
     ]
    }
   ],
   "source": [
    "def find_words(string):\n",
    "    pattern = re.compile(r'\\b\\w{3,8}\\b')\n",
    "    matches = pattern.findall(string)\n",
    "    return matches\n",
    "string = \"This is a sample string with words of different lengths.\"\n",
    "result = find_words(string)\n",
    "print(result)"
   ]
  },
  {
   "cell_type": "code",
   "execution_count": 17,
   "id": "ebb4e289",
   "metadata": {},
   "outputs": [],
   "source": [
    "#  Q 4 Create a function in python to find all three, four, and five character words in a string.\n",
    "# The use of the re.compile() method is mandatory.\n",
    "\n"
   ]
  },
  {
   "cell_type": "code",
   "execution_count": 76,
   "id": "fcdb7b60",
   "metadata": {},
   "outputs": [
    {
     "name": "stdout",
     "output_type": "stream",
     "text": [
      "['This', 'is', 'a', 'with', 'words', 'of']\n"
     ]
    }
   ],
   "source": [
    "\n",
    "def find_words(string):\n",
    "    pattern = re.compile(r'\\b\\w{1,5}\\b')\n",
    "    matches = pattern.findall(string)\n",
    "    return matches\n",
    "string = \"This is a sample string with words of different lengths.\"\n",
    "result = find_words(string)\n",
    "print(result)\n"
   ]
  },
  {
   "cell_type": "code",
   "execution_count": 18,
   "id": "a8b4233d",
   "metadata": {},
   "outputs": [],
   "source": [
    "# Q 5  Create a function in Python to remove the parenthesis in a list of strings. \n",
    "# The use of the re.compile() method is mandatory."
   ]
  },
  {
   "cell_type": "code",
   "execution_count": 19,
   "id": "7c04f58d",
   "metadata": {},
   "outputs": [
    {
     "name": "stdout",
     "output_type": "stream",
     "text": [
      "**************\n",
      "example \n",
      "**************\n",
      "**************\n",
      "hr@fliprobo \n",
      "**************\n",
      "**************\n",
      "github \n",
      "**************\n",
      "**************\n",
      "Hello \n",
      "**************\n",
      "**************\n",
      "Data \n",
      "**************\n"
     ]
    }
   ],
   "source": [
    "\n",
    "def remove_parenthesis(strings):\n",
    "    pattern = re.compile(r'\\((.*?)\\)')\n",
    "\n",
    "    \n",
    "    for i in range(len(Text)):\n",
    "        \n",
    "        strings[i] = re.sub(pattern, '', strings[i])\n",
    "\n",
    "    return strings\n",
    "\n",
    "\n",
    "Text = [\"example (.com)\", \"hr@fliprobo (.com)\", \"github (.com)\", \"Hello (Data Science World)\", \"Data (Scientist)\"]\n",
    "\n",
    "\n",
    "X = remove_parenthesis(Text)\n",
    "\n",
    "\n",
    "for Text in X:\n",
    "    print(\"**************\")\n",
    "    print(Text)\n",
    "    print(\"**************\")"
   ]
  },
  {
   "cell_type": "code",
   "execution_count": 20,
   "id": "c06969db",
   "metadata": {},
   "outputs": [],
   "source": [
    "# Q 6 Write a python program to remove the parenthesis area from the text stored in the text file using Regular Expression.\n"
   ]
  },
  {
   "cell_type": "code",
   "execution_count": 21,
   "id": "a20c47de",
   "metadata": {},
   "outputs": [],
   "source": [
    "Text = [\"example (.com)\", \"hr@fliprobo (.com)\", \"github (.com)\", \"Hello (Data Science World)\", \"Data (Scientist)\"]\n",
    "\n"
   ]
  },
  {
   "cell_type": "code",
   "execution_count": 22,
   "id": "fe300526",
   "metadata": {},
   "outputs": [],
   "source": [
    "# Q 7 Write a regular expression in Python to split a string into uppercase letters.\n"
   ]
  },
  {
   "cell_type": "markdown",
   "id": "ac5798e0",
   "metadata": {},
   "source": []
  },
  {
   "cell_type": "code",
   "execution_count": 23,
   "id": "eab71b99",
   "metadata": {},
   "outputs": [
    {
     "name": "stdout",
     "output_type": "stream",
     "text": [
      "['Importance', 'Of', 'Regular', 'Expressions', 'In', 'Python']\n"
     ]
    }
   ],
   "source": [
    "text = \"ImportanceOfRegularExpressionsInPython\"\n",
    "X = (re.findall('[A-Z][^A-Z]*', text))\n",
    "print(X)"
   ]
  },
  {
   "cell_type": "code",
   "execution_count": 24,
   "id": "6fab7250",
   "metadata": {},
   "outputs": [],
   "source": [
    " # Q 8 Create a function in python to insert spaces between words starting with numbers.\n",
    "    "
   ]
  },
  {
   "cell_type": "code",
   "execution_count": 25,
   "id": "94daf7e1",
   "metadata": {},
   "outputs": [
    {
     "name": "stdout",
     "output_type": "stream",
     "text": [
      "Regular Expression1Is An2Important Topic3In Python\n"
     ]
    }
   ],
   "source": [
    "Text =  \"RegularExpression1IsAn2ImportantTopic3InPython\"\n",
    "\n",
    "x  = re.sub(r'([a-z](?=[A-Z])|[A-Z](?=[A-Z][a-z]))', r'\\1 ', Text)\n",
    "print(x)"
   ]
  },
  {
   "cell_type": "code",
   "execution_count": 26,
   "id": "c0785ddc",
   "metadata": {},
   "outputs": [],
   "source": [
    " # Q 9 Create a function in python to insert spaces between words starting with capital letters or with numbers."
   ]
  },
  {
   "cell_type": "code",
   "execution_count": 70,
   "id": "5c088ff0",
   "metadata": {},
   "outputs": [
    {
     "name": "stdout",
     "output_type": "stream",
     "text": [
      "Regular Expression1 Is An2 Important Topic3 In Python\n"
     ]
    }
   ],
   "source": [
    "def insert_spaces(text):\n",
    "    pattern = r'([A-Z][a-z0-9]+|\\d+)'\n",
    "    result = re.sub(pattern, r' \\1', text)\n",
    "    result = result.strip()\n",
    "    return result\n",
    "sample_text = \"RegularExpression1IsAn2ImportantTopic3InPython\"\n",
    "output = insert_spaces(sample_text)\n",
    "print(output)"
   ]
  },
  {
   "cell_type": "code",
   "execution_count": null,
   "id": "dd089669",
   "metadata": {},
   "outputs": [],
   "source": []
  },
  {
   "cell_type": "code",
   "execution_count": null,
   "id": "dd99963b",
   "metadata": {},
   "outputs": [],
   "source": [
    "    "
   ]
  },
  {
   "cell_type": "code",
   "execution_count": 99,
   "id": "367be634",
   "metadata": {},
   "outputs": [],
   "source": [
    "  # Q 10 Use the github link below to read the data and create a dataframe. After creating the dataframe extract the first 6 letters of each country and store in the dataframe under a new column called first_five_letters."
   ]
  },
  {
   "cell_type": "code",
   "execution_count": null,
   "id": "310c8bae",
   "metadata": {},
   "outputs": [],
   "source": []
  },
  {
   "cell_type": "code",
   "execution_count": null,
   "id": "fcd2d209",
   "metadata": {},
   "outputs": [],
   "source": [
    "# Q11 Write a Python program to match a string that contains only upper and lowercase letters, numbers, and underscores."
   ]
  },
  {
   "cell_type": "code",
   "execution_count": 33,
   "id": "c4c79801",
   "metadata": {},
   "outputs": [
    {
     "name": "stdout",
     "output_type": "stream",
     "text": [
      "Not matched!\n",
      "Found a match!\n"
     ]
    }
   ],
   "source": [
    "import re\n",
    "def text_match(text):\n",
    "        patterns = '^[a-zA-Z0-9_]*$'\n",
    "        if re.search(patterns,  text):\n",
    "                return 'Found a match!'\n",
    "        else:\n",
    "                return('Not matched!')\n",
    "\n",
    "print(text_match(\"The quick brown fox jumps over the lazy dog.\"))\n",
    "print(text_match(\"Python_Exercises_1\"))\n"
   ]
  },
  {
   "cell_type": "code",
   "execution_count": null,
   "id": "f596d4dc",
   "metadata": {},
   "outputs": [],
   "source": [
    " # Q 12 Write a Python program where a string will start with a specific number. "
   ]
  },
  {
   "cell_type": "code",
   "execution_count": 100,
   "id": "00cc9a09",
   "metadata": {},
   "outputs": [
    {
     "name": "stdout",
     "output_type": "stream",
     "text": [
      "True\n",
      "False\n"
     ]
    }
   ],
   "source": [
    "def match_num(string):\n",
    "    text = re.compile(r\"^5\")\n",
    "    if text.match(string):\n",
    "        return True\n",
    "    else:\n",
    "        return False\n",
    "print(match_num('5-2345861'))\n",
    "print(match_num('6-2345861'))"
   ]
  },
  {
   "cell_type": "code",
   "execution_count": 101,
   "id": "f82d0126",
   "metadata": {},
   "outputs": [],
   "source": [
    "# Q 13 - Write a Python program to remove leading zeros from an IP address"
   ]
  },
  {
   "cell_type": "code",
   "execution_count": 102,
   "id": "6b25b322",
   "metadata": {},
   "outputs": [
    {
     "name": "stdout",
     "output_type": "stream",
     "text": [
      "216.8.94.196\n"
     ]
    }
   ],
   "source": [
    "import re\n",
    "ip = \"216.08.094.196\"\n",
    "string = re.sub('\\.[0]*', '.', ip)\n",
    "print(string)\n"
   ]
  },
  {
   "cell_type": "code",
   "execution_count": 103,
   "id": "62df0b1d",
   "metadata": {},
   "outputs": [],
   "source": [
    "# Q 14 Write a regular expression in python to match a date string in the form of Month name \n",
    "# followed by day number and year stored in a text file."
   ]
  },
  {
   "cell_type": "code",
   "execution_count": 4,
   "id": "c0e2870f",
   "metadata": {},
   "outputs": [
    {
     "name": "stdout",
     "output_type": "stream",
     "text": [
      "August 15th 1947\n"
     ]
    }
   ],
   "source": [
    "text = \"On August 15th 1947 that India was declared independent from British colonialism, and the reins of control were handed over to the leaders of the Country.\"\n",
    "\n",
    "pattern = r\"\\b([A-Z][a-z]+ \\d{1,2}(?:st|nd|rd|th)? \\d{4})\\b\"\n",
    "\n",
    "matches = re.findall(pattern, text)\n",
    "date_string = matches[0] if matches else None\n",
    "\n",
    "print(date_string)"
   ]
  },
  {
   "cell_type": "code",
   "execution_count": 105,
   "id": "14c705fb",
   "metadata": {},
   "outputs": [],
   "source": [
    " # Q 15 Write a Python program to search some literals strings in a string. "
   ]
  },
  {
   "cell_type": "code",
   "execution_count": 106,
   "id": "5d43e80c",
   "metadata": {},
   "outputs": [
    {
     "name": "stdout",
     "output_type": "stream",
     "text": [
      "Searching for \"fox\" in \"The quick brown fox jumps over the lazy dog.\" ->\n",
      "Matched!\n",
      "Searching for \"dog\" in \"The quick brown fox jumps over the lazy dog.\" ->\n",
      "Matched!\n",
      "Searching for \"horse\" in \"The quick brown fox jumps over the lazy dog.\" ->\n",
      "Not Matched!\n"
     ]
    }
   ],
   "source": [
    "patterns = [ 'fox', 'dog', 'horse' ]\n",
    "text = 'The quick brown fox jumps over the lazy dog.'\n",
    "for pattern in patterns:\n",
    "    print('Searching for \"%s\" in \"%s\" ->' % (pattern, text),)\n",
    "    if re.search(pattern,  text):\n",
    "        print('Matched!')\n",
    "    else:\n",
    "        print('Not Matched!')"
   ]
  },
  {
   "cell_type": "code",
   "execution_count": 107,
   "id": "28e76c7c",
   "metadata": {},
   "outputs": [],
   "source": [
    " # Q16 Write a Python program to search a literals string in a string and \n",
    "    # also find the location within the original string where the pattern occurs"
   ]
  },
  {
   "cell_type": "code",
   "execution_count": 108,
   "id": "d704e299",
   "metadata": {},
   "outputs": [
    {
     "name": "stdout",
     "output_type": "stream",
     "text": [
      "Found \"fox\" in \"The quick brown fox jumps over the lazy dog.\" from 16 to 19 \n"
     ]
    }
   ],
   "source": [
    "pattern = 'fox'\n",
    "text = 'The quick brown fox jumps over the lazy dog.'\n",
    "match = re.search(pattern, text)\n",
    "s = match.start()\n",
    "e = match.end()\n",
    "print('Found \"%s\" in \"%s\" from %d to %d ' % \\\n",
    "    (match.re.pattern, match.string, s, e))\n"
   ]
  },
  {
   "cell_type": "code",
   "execution_count": 109,
   "id": "1342ebd2",
   "metadata": {},
   "outputs": [],
   "source": [
    " # Q 17 - Write a Python program to find the substrings within a string."
   ]
  },
  {
   "cell_type": "code",
   "execution_count": 110,
   "id": "65ff8d2a",
   "metadata": {},
   "outputs": [
    {
     "name": "stdout",
     "output_type": "stream",
     "text": [
      "Found \"exercises\"\n",
      "Found \"exercises\"\n",
      "Found \"exercises\"\n"
     ]
    }
   ],
   "source": [
    "text = 'Python exercises, PHP exercises, C# exercises'\n",
    "pattern = 'exercises'\n",
    "for match in re.findall(pattern, text):\n",
    "    print('Found \"%s\"' % match)\n"
   ]
  },
  {
   "cell_type": "code",
   "execution_count": 111,
   "id": "939d284f",
   "metadata": {},
   "outputs": [],
   "source": [
    " # Q18 - Write a Python program to find the occurrence and position of the substrings within a string."
   ]
  },
  {
   "cell_type": "code",
   "execution_count": 37,
   "id": "2b56d6b4",
   "metadata": {},
   "outputs": [
    {
     "name": "stdout",
     "output_type": "stream",
     "text": [
      "*****************************************\n",
      "Found \"exercises\" at 7:16\n",
      "*****************************************\n",
      "*****************************************\n",
      "Found \"exercises\" at 22:31\n",
      "*****************************************\n",
      "*****************************************\n",
      "Found \"exercises\" at 36:45\n",
      "*****************************************\n"
     ]
    }
   ],
   "source": [
    "\n",
    "text = 'Python exercises, PHP exercises, C# exercises'\n",
    "pattern = 'exercises'\n",
    "for match in re.finditer(pattern, text):\n",
    "    s = match.start()\n",
    "    e = match.end()\n",
    "    print(\"*****************************************\")\n",
    "    print('Found \"%s\" at %d:%d' % (text[s:e], s, e))\n",
    "    print(\"*****************************************\")"
   ]
  },
  {
   "cell_type": "code",
   "execution_count": 113,
   "id": "46c12e2e",
   "metadata": {},
   "outputs": [],
   "source": [
    " # Q 19 Write a Python program to convert a date of yyyy-mm-dd format to dd-mm-yyyy format."
   ]
  },
  {
   "cell_type": "code",
   "execution_count": 33,
   "id": "1d4d8069",
   "metadata": {},
   "outputs": [
    {
     "name": "stdout",
     "output_type": "stream",
     "text": [
      "**********************************************************\n",
      "Original date in YYY-MM-DD Format:  2026-01-02\n",
      "New date in DD-MM-YYYY Format:  02-01-2026\n",
      "***********************************************************\n"
     ]
    }
   ],
   "source": [
    "\n",
    "def change_date_format(dt):\n",
    "        return re.sub(r'(\\d{4})-(\\d{1,2})-(\\d{1,2})', '\\\\3-\\\\2-\\\\1', dt)\n",
    "dt1 = \"2026-01-02\"\n",
    "print('**********************************************************')\n",
    "print(\"Original date in YYY-MM-DD Format: \",dt1)\n",
    "print(\"New date in DD-MM-YYYY Format: \",change_date_format(dt1))\n",
    "print(\"***********************************************************\")"
   ]
  },
  {
   "cell_type": "code",
   "execution_count": 115,
   "id": "52eedcb7",
   "metadata": {},
   "outputs": [],
   "source": [
    "# Q20 Create a function in python to find all decimal numbers with a precision of 1 or 2 in a string.\n",
    "# The use of the re.compile() method is mandatory."
   ]
  },
  {
   "cell_type": "code",
   "execution_count": 29,
   "id": "97c6417f",
   "metadata": {},
   "outputs": [],
   "source": [
    "def find_decimal_numbers(string):\n",
    "    pattern = re.compile(r'\\d+\\.\\d{1,2}')\n",
    "    decimal_numbers = re.findall(pattern, string)\n",
    "    return decimal_numbers"
   ]
  },
  {
   "cell_type": "code",
   "execution_count": 32,
   "id": "9e77da9c",
   "metadata": {},
   "outputs": [
    {
     "name": "stdout",
     "output_type": "stream",
     "text": [
      "**************************************************************\n",
      "['01.12', '0132.12', '2.31', '145.8', '3.01', '27.25', '0.25']\n",
      "**************************************************************\n"
     ]
    }
   ],
   "source": [
    "sample_text = \"01.12 0132.123 2.31875 145.8 3.01 27.25 0.25\"\n",
    "output = find_decimal_numbers(sample_text)\n",
    "print('**************************************************************')\n",
    "print(output)\n",
    "print(\"**************************************************************\")"
   ]
  },
  {
   "cell_type": "code",
   "execution_count": 118,
   "id": "a1e446fb",
   "metadata": {},
   "outputs": [],
   "source": [
    " # Q21 Write a Python program to separate and print the numbers and their position of a given string.\n",
    "\n"
   ]
  },
  {
   "cell_type": "code",
   "execution_count": 119,
   "id": "1deb02c0",
   "metadata": {},
   "outputs": [
    {
     "name": "stdout",
     "output_type": "stream",
     "text": [
      "50\n",
      "Index position: 62\n"
     ]
    }
   ],
   "source": [
    "\n",
    "# Input.\n",
    "text = \"The following example creates an ArrayList with a capacity of 50 elements. Four elements are then added to the ArrayList and the ArrayList is trimmed accordingly.\"\n",
    "\n",
    "for m in re.finditer(\"\\d+\", text):\n",
    "    print(m.group(0))\n",
    "    print(\"Index position:\", m.start())\n",
    "\t"
   ]
  },
  {
   "cell_type": "code",
   "execution_count": 120,
   "id": "21c91386",
   "metadata": {},
   "outputs": [],
   "source": [
    "# Q 22 Write a regular expression in python program to extract maximum/largest numeric value from a string."
   ]
  },
  {
   "cell_type": "code",
   "execution_count": 31,
   "id": "ee31b47b",
   "metadata": {},
   "outputs": [
    {
     "name": "stdout",
     "output_type": "stream",
     "text": [
      "950\n"
     ]
    }
   ],
   "source": [
    "string = 'My marks in each semester are: 947, 896, 926, 524, 734, 950, 642'\n",
    "\n",
    "values = re.findall(r'\\d+', string)\n",
    "values = [int(value) for value in values]\n",
    "\n",
    "max_value = max(values)\n",
    "\n",
    "print(max_value)"
   ]
  },
  {
   "cell_type": "code",
   "execution_count": 121,
   "id": "061a955a",
   "metadata": {},
   "outputs": [],
   "source": [
    "# Q23 Create a function in python to insert spaces between words starting with capital letters."
   ]
  },
  {
   "cell_type": "code",
   "execution_count": 27,
   "id": "1872ceca",
   "metadata": {},
   "outputs": [
    {
     "name": "stdout",
     "output_type": "stream",
     "text": [
      "*****************************************************\n",
      "\n",
      "Python\n",
      "Python Exercises\n",
      "Python Exercises Practice Solution \n",
      " \n",
      "*******************************************************\n"
     ]
    }
   ],
   "source": [
    "\n",
    "def capital_words_spaces(str1):\n",
    "    return re.sub(r\"(\\w)([A-Z])\", r\"\\1 \\2\", str1)\n",
    "print(\"*****************************************************\\n\")\n",
    "print(capital_words_spaces(\"Python\"))\n",
    "print(capital_words_spaces(\"PythonExercises\"))\n",
    "print(capital_words_spaces(\"PythonExercisesPracticeSolution \\n \"))\n",
    "print(\"*******************************************************\")"
   ]
  },
  {
   "cell_type": "code",
   "execution_count": 123,
   "id": "66851677",
   "metadata": {},
   "outputs": [],
   "source": [
    "# Q24 Python regex to find sequences of one upper case letter followed by lower case letters"
   ]
  },
  {
   "cell_type": "code",
   "execution_count": 24,
   "id": "e7dfc647",
   "metadata": {},
   "outputs": [
    {
     "name": "stdout",
     "output_type": "stream",
     "text": [
      "******************************\n",
      "matched\n",
      "matched\n",
      "Not matched!\n",
      "Not matched!\n",
      "Not matched!\n",
      "Not matched!\n",
      "******************************\n"
     ]
    }
   ],
   "source": [
    "\n",
    "def text_match(text):\n",
    "        patterns = '[A-Z]+[a-z]+$'\n",
    "        if re.search(patterns, text):\n",
    "                return 'matched'\n",
    "        else:\n",
    "                return('Not matched!')\n",
    "print(\"******************************\")\n",
    "print(text_match(\"AaBbGg\"))\n",
    "print(text_match(\"Python\"))\n",
    "print(text_match(\"python\"))\n",
    "print(text_match(\"PYTHON\"))\n",
    "print(text_match(\"aA\"))\n",
    "print(text_match(\"Aa \\n\"))\n",
    "print(\"******************************\")"
   ]
  },
  {
   "cell_type": "code",
   "execution_count": 23,
   "id": "a0ca10f1",
   "metadata": {},
   "outputs": [],
   "source": [
    " # Q 25 - Write a Python program to remove continuous duplicate words from Sentence using Regular Expression."
   ]
  },
  {
   "cell_type": "code",
   "execution_count": 12,
   "id": "1324cf8c",
   "metadata": {},
   "outputs": [
    {
     "name": "stdout",
     "output_type": "stream",
     "text": [
      "********************************************************\n",
      "Original String:\n",
      "Hello hello world world \n",
      "\n",
      "After removing duplicate words from the said string:\n",
      " \n",
      "Hello hello world\n",
      "*********************************************************\n"
     ]
    }
   ],
   "source": [
    "def unique_list(text_str):\n",
    "    \n",
    "    l = text_str.split()\n",
    "    temp = []\n",
    "    \n",
    "    for x in l:\n",
    "        if x not in temp:\n",
    "             temp.append(x)\n",
    "    \n",
    "   \n",
    "    return ' '.join(temp)\n",
    "\n",
    "text_str = \"Hello hello world world \" \n",
    "\n",
    "print(\"********************************************************\")\n",
    "print(\"Original String:\")\n",
    "print(text_str)\n",
    "print(\"\\nAfter removing duplicate words from the said string:\\n \")\n",
    "print(unique_list(text_str)) \n",
    "print(\"*********************************************************\")\n"
   ]
  },
  {
   "cell_type": "code",
   "execution_count": 127,
   "id": "a3f4bd7a",
   "metadata": {},
   "outputs": [],
   "source": [
    " # Q 26 -  Write a python program using RegEx to accept string ending with alphanumeric character."
   ]
  },
  {
   "cell_type": "code",
   "execution_count": 45,
   "id": "750562b5",
   "metadata": {},
   "outputs": [
    {
     "name": "stdout",
     "output_type": "stream",
     "text": [
      "not accepted\n",
      "accepted\n",
      "not accepted\n",
      "accepted\n"
     ]
    }
   ],
   "source": [
    "regex = '[a-zA-z0-9]$'\n",
    "\n",
    "def check(string): \n",
    "\n",
    "    if(re.search(regex, string)): \n",
    "        print(\"accepted\") \n",
    "        \n",
    "    else: \n",
    "        print(\"not accepted\") \n",
    "\n",
    "\n",
    "\n",
    "if __name__ == '__main__' :\n",
    "    string = \"ankirai@\"\n",
    "    check(string)\n",
    "    string = \"ankitrai326\"\n",
    "    check(string)\n",
    "    string = \"ankit.\"\n",
    "    check(string)\n",
    "    string = \"geeksforgeeks\"\n",
    "    check(string)\n"
   ]
  },
  {
   "cell_type": "code",
   "execution_count": 128,
   "id": "998d4c06",
   "metadata": {},
   "outputs": [],
   "source": [
    " # Q 27 Write a python program using RegEx to extract the hashtags."
   ]
  },
  {
   "cell_type": "code",
   "execution_count": 67,
   "id": "b4d865be",
   "metadata": {},
   "outputs": [
    {
     "ename": "SyntaxError",
     "evalue": "unexpected character after line continuation character (3259446367.py, line 2)",
     "output_type": "error",
     "traceback": [
      "\u001b[1;36m  Cell \u001b[1;32mIn[67], line 2\u001b[1;36m\u001b[0m\n\u001b[1;33m    hashtag_list = []\\for word in text.split():\u001b[0m\n\u001b[1;37m                                               \n^\u001b[0m\n\u001b[1;31mSyntaxError\u001b[0m\u001b[1;31m:\u001b[0m unexpected character after line continuation character\n"
     ]
    }
   ],
   "source": [
    "\n",
    "def extract_hashtags(text):\\\n",
    "    hashtag_list = []\\for word in text.split():\n",
    "            if word[0] == '#':\n",
    "                hashtag_list.append(word[1:])\n",
    "                    print(\"The hashtags in \\\"\" + text + \"\\\" are :\")\n",
    "                    for hashtag in hashtag_list:\n",
    "                        print(hashtag)\n",
    "\n",
    "\n",
    "if __name__ == \"__main__\":\n",
    "    text1 = \"RT @kapil_kausik: #Doltiwal I mean #xyzabc is \"hurt\" by #Demonetization as the same has rendered USELESS <ed><U+00A0><U+00BD><ed><U+00B1><U+0089> \"acquired funds\" No wo\"\n",
    "    extract_hashtags(text1)\n",
    "    extract_hashtags(text2)\n",
    "\n"
   ]
  },
  {
   "cell_type": "code",
   "execution_count": 65,
   "id": "5ef311e2",
   "metadata": {},
   "outputs": [],
   "source": [
    " # 28 Write a python program using RegEx to remove <U+..> like symbols"
   ]
  },
  {
   "cell_type": "code",
   "execution_count": 66,
   "id": "e047b775",
   "metadata": {},
   "outputs": [
    {
     "name": "stdout",
     "output_type": "stream",
     "text": [
      "*****************************************************************************************************************\n",
      "\n",
      "@Jags123456 Bharat band on 28??<ed><ed>Those who are protesting #demonetization are all different party leaders \n",
      "\n",
      "*****************************************************************************************************************\n"
     ]
    }
   ],
   "source": [
    "input_text = \"@Jags123456 Bharat band on 28??<ed><U+00A0><U+00BD><ed><U+00B8><U+0082>Those who are protesting #demonetization are all different party leaders\"\n",
    "\n",
    "pattern = r\"<U\\+\\w{4}>\"\n",
    "output_text = re.sub(pattern, \"\", input_text)\n",
    "print(\"*****************************************************************************************************************\\n\" )\n",
    "print(output_text,'\\n')\n",
    "print(\"*****************************************************************************************************************\")"
   ]
  },
  {
   "cell_type": "code",
   "execution_count": 131,
   "id": "dbc00bd2",
   "metadata": {},
   "outputs": [],
   "source": [
    " # Q 29 Write a python program to extract dates from the text stored in the text file."
   ]
  },
  {
   "cell_type": "code",
   "execution_count": 1,
   "id": "4c172b95",
   "metadata": {},
   "outputs": [
    {
     "ename": "FileNotFoundError",
     "evalue": "[Errno 2] No such file or directory: 'filename.txt'",
     "output_type": "error",
     "traceback": [
      "\u001b[1;31m---------------------------------------------------------------------------\u001b[0m",
      "\u001b[1;31mFileNotFoundError\u001b[0m                         Traceback (most recent call last)",
      "Cell \u001b[1;32mIn[1], line 2\u001b[0m\n\u001b[0;32m      1\u001b[0m \u001b[38;5;66;03m# Open the text file\u001b[39;00m\n\u001b[1;32m----> 2\u001b[0m \u001b[38;5;28;01mwith\u001b[39;00m \u001b[38;5;28mopen\u001b[39m(\u001b[38;5;124m'\u001b[39m\u001b[38;5;124mfilename.txt\u001b[39m\u001b[38;5;124m'\u001b[39m, \u001b[38;5;124m'\u001b[39m\u001b[38;5;124mr\u001b[39m\u001b[38;5;124m'\u001b[39m) \u001b[38;5;28;01mas\u001b[39;00m file:\n\u001b[0;32m      3\u001b[0m     text \u001b[38;5;241m=\u001b[39m file\u001b[38;5;241m.\u001b[39mread()\n\u001b[0;32m      5\u001b[0m \u001b[38;5;66;03m# Define the regular expression pattern for dates\u001b[39;00m\n",
      "File \u001b[1;32m~\\anaconda3\\Lib\\site-packages\\IPython\\core\\interactiveshell.py:286\u001b[0m, in \u001b[0;36m_modified_open\u001b[1;34m(file, *args, **kwargs)\u001b[0m\n\u001b[0;32m    279\u001b[0m \u001b[38;5;28;01mif\u001b[39;00m file \u001b[38;5;129;01min\u001b[39;00m {\u001b[38;5;241m0\u001b[39m, \u001b[38;5;241m1\u001b[39m, \u001b[38;5;241m2\u001b[39m}:\n\u001b[0;32m    280\u001b[0m     \u001b[38;5;28;01mraise\u001b[39;00m \u001b[38;5;167;01mValueError\u001b[39;00m(\n\u001b[0;32m    281\u001b[0m         \u001b[38;5;124mf\u001b[39m\u001b[38;5;124m\"\u001b[39m\u001b[38;5;124mIPython won\u001b[39m\u001b[38;5;124m'\u001b[39m\u001b[38;5;124mt let you open fd=\u001b[39m\u001b[38;5;132;01m{\u001b[39;00mfile\u001b[38;5;132;01m}\u001b[39;00m\u001b[38;5;124m by default \u001b[39m\u001b[38;5;124m\"\u001b[39m\n\u001b[0;32m    282\u001b[0m         \u001b[38;5;124m\"\u001b[39m\u001b[38;5;124mas it is likely to crash IPython. If you know what you are doing, \u001b[39m\u001b[38;5;124m\"\u001b[39m\n\u001b[0;32m    283\u001b[0m         \u001b[38;5;124m\"\u001b[39m\u001b[38;5;124myou can use builtins\u001b[39m\u001b[38;5;124m'\u001b[39m\u001b[38;5;124m open.\u001b[39m\u001b[38;5;124m\"\u001b[39m\n\u001b[0;32m    284\u001b[0m     )\n\u001b[1;32m--> 286\u001b[0m \u001b[38;5;28;01mreturn\u001b[39;00m io_open(file, \u001b[38;5;241m*\u001b[39margs, \u001b[38;5;241m*\u001b[39m\u001b[38;5;241m*\u001b[39mkwargs)\n",
      "\u001b[1;31mFileNotFoundError\u001b[0m: [Errno 2] No such file or directory: 'filename.txt'"
     ]
    }
   ],
   "source": [
    "# Open the text file\n",
    "with open('filename.txt', 'r') as file:\n",
    "    text = file.read()\n",
    "\n",
    "# Define the regular expression pattern for dates\n",
    "pattern = r'\\d{2}-\\d{2}-\\d{4}'\n",
    "\n",
    "# Find all matches of the pattern in the text\n",
    "dates = re.findall(pattern, text)\n",
    "\n",
    "# Print the extracted dates\n",
    "for date in dates:\n",
    "    print(date)"
   ]
  },
  {
   "cell_type": "code",
   "execution_count": 133,
   "id": "de9e2340",
   "metadata": {},
   "outputs": [],
   "source": [
    "# Q 30 Create a function in python to remove all words from a string of length between 2 and 4."
   ]
  },
  {
   "cell_type": "code",
   "execution_count": 79,
   "id": "f1ca685e",
   "metadata": {},
   "outputs": [],
   "source": []
  },
  {
   "cell_type": "code",
   "execution_count": null,
   "id": "fdb84bf9",
   "metadata": {},
   "outputs": [],
   "source": []
  },
  {
   "cell_type": "code",
   "execution_count": null,
   "id": "e4172bcd",
   "metadata": {},
   "outputs": [],
   "source": []
  },
  {
   "cell_type": "code",
   "execution_count": null,
   "id": "1e15b040",
   "metadata": {},
   "outputs": [],
   "source": []
  }
 ],
 "metadata": {
  "kernelspec": {
   "display_name": "Python 3 (ipykernel)",
   "language": "python",
   "name": "python3"
  },
  "language_info": {
   "codemirror_mode": {
    "name": "ipython",
    "version": 3
   },
   "file_extension": ".py",
   "mimetype": "text/x-python",
   "name": "python",
   "nbconvert_exporter": "python",
   "pygments_lexer": "ipython3",
   "version": "3.11.5"
  }
 },
 "nbformat": 4,
 "nbformat_minor": 5
}
