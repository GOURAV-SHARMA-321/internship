{
 "cells": [
  {
   "cell_type": "code",
   "execution_count": null,
   "id": "a2844b3f",
   "metadata": {},
   "outputs": [],
   "source": [
    "# Q 1     Write a python program to find the factorial of a number"
   ]
  },
  {
   "cell_type": "code",
   "execution_count": 19,
   "id": "efb7644f",
   "metadata": {},
   "outputs": [
    {
     "name": "stdout",
     "output_type": "stream",
     "text": [
      "Enter your number  - 1\n",
      "factorial of the  1 is 1\n"
     ]
    }
   ],
   "source": [
    "num = int(input('Enter your number  - '))\n",
    "\n",
    "factor = 1 \n",
    "\n",
    "if num<0:\n",
    "    print(\"factorial does not exsit\")\n",
    "    \n",
    "elif num==0:\n",
    "    print('the factorial is 1 ')\n",
    "else:\n",
    "    for i in range(1,num+1):\n",
    "        factor = factor*i\n",
    "        print('factorial of the ',num,'is',factor)"
   ]
  },
  {
   "cell_type": "code",
   "execution_count": 19,
   "id": "2d98e090",
   "metadata": {},
   "outputs": [],
   "source": [
    "# Q 2    Write a python program to find whether a number is prime or composite"
   ]
  },
  {
   "cell_type": "code",
   "execution_count": 26,
   "id": "cf7a293d",
   "metadata": {},
   "outputs": [
    {
     "name": "stdout",
     "output_type": "stream",
     "text": [
      "Enter your number --- 3\n",
      "3   this is the prime number \n"
     ]
    }
   ],
   "source": [
    "num = int(input('Enter your number --- '))\n",
    "\n",
    "if num<1:\n",
    "    print(\"number needs to be greater then 1 \")\n",
    "    \n",
    "elif num == 1:\n",
    "    print(num,'nither prime nor composit')\n",
    "    \n",
    "else:\n",
    "    for deviser in range(2,(num//2), +1 ):\n",
    "        if((num % deviser ) == 0 ):\n",
    "            print(num,'this is a composit number')\n",
    "            break\n",
    "\n",
    "    else:\n",
    "        print(num,\"  this is the prime number \")\n",
    "    "
   ]
  },
  {
   "cell_type": "code",
   "execution_count": null,
   "id": "9ac1a63f",
   "metadata": {},
   "outputs": [],
   "source": [
    "#  Q 3   Write a python program to check whether a given string is palindrome or not"
   ]
  },
  {
   "cell_type": "code",
   "execution_count": 25,
   "id": "3f540b33",
   "metadata": {},
   "outputs": [
    {
     "name": "stdout",
     "output_type": "stream",
     "text": [
      "Enter your string  -   MADAM\n",
      "MADAM this is the palindrome \n"
     ]
    }
   ],
   "source": [
    "ax =  input(\"Enter your string  -   \")\n",
    "\n",
    "if ax == ax[::-1]:\n",
    "    print(ax ,'this is the palindrome ')\n",
    "\n",
    "else:\n",
    "    print(ax,  'this is not the palindrome')\n",
    "    \n",
    "    "
   ]
  },
  {
   "cell_type": "code",
   "execution_count": null,
   "id": "7c4b4c24",
   "metadata": {},
   "outputs": [],
   "source": [
    "#  Q 4  Write a python program to print the frequency of each of the characters present in a given string"
   ]
  },
  {
   "cell_type": "code",
   "execution_count": 30,
   "id": "1103a3f7",
   "metadata": {},
   "outputs": [
    {
     "name": "stdout",
     "output_type": "stream",
     "text": [
      "Enter your string  - TYHANK YOU SIR\n",
      "TYHANK YOU SIR\n",
      "***********************************************************************************\n"
     ]
    },
    {
     "data": {
      "text/plain": [
       "['T', 'Y', 'H', 'A', 'N', 'K', ' ', 'Y', 'O', 'U', ' ', 'S', 'I', 'R']"
      ]
     },
     "execution_count": 30,
     "metadata": {},
     "output_type": "execute_result"
    }
   ],
   "source": [
    "string  = input(\"Enter your string  - \")\n",
    "\n",
    "print(string)\n",
    "print('***********************************************************************************')\n",
    "ex = list(str(string))\n",
    "ex\n",
    "\n"
   ]
  },
  {
   "cell_type": "code",
   "execution_count": null,
   "id": "259fa21a",
   "metadata": {},
   "outputs": [],
   "source": []
  }
 ],
 "metadata": {
  "kernelspec": {
   "display_name": "Python 3 (ipykernel)",
   "language": "python",
   "name": "python3"
  },
  "language_info": {
   "codemirror_mode": {
    "name": "ipython",
    "version": 3
   },
   "file_extension": ".py",
   "mimetype": "text/x-python",
   "name": "python",
   "nbconvert_exporter": "python",
   "pygments_lexer": "ipython3",
   "version": "3.11.5"
  }
 },
 "nbformat": 4,
 "nbformat_minor": 5
}
